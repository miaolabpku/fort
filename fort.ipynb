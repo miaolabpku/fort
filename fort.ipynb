{
 "cells": [
  {
   "cell_type": "code",
   "execution_count": null,
   "metadata": {
    "collapsed": true
   },
   "outputs": [],
   "source": [
    "import numpy as np\n",
    "import skimage\n",
    "import skimage.io\n",
    "import matplotlib.pyplot as plt"
   ]
  },
  {
   "cell_type": "code",
   "execution_count": null,
   "metadata": {},
   "outputs": [],
   "source": [
    "retino_volume = np.zeros((512,512,1301,))\n",
    "cnt = 0\n",
    "start_index = 200 - 1\n",
    "end_index = 1500 - 1\n",
    "#197,277\n",
    "retino_values = []\n",
    "for index in range(start_index, end_index + 1):\n",
    "    filename = 'hsc/retino/retino' + str(index).zfill(4) + '.tif'\n",
    "    image = skimage.io.imread(filename)\n",
    "    patch = image[197-25:197+25,277-25:277+25]\n",
    "    retino_values.append(np.mean(patch))\n",
    "    skimage.io.imsave('hsc/retino_patch' + str(index).zfill(4) + '.jpg', patch)\n",
    "    retino_volume[:,:,cnt] = image\n",
    "    cnt = cnt + 1\n",
    "retino_volume = retino_volume.astype(np.float32)\n",
    "retino_mean = np.mean(retino_volume, axis=2)\n",
    "retino_std = np.std(retino_volume, axis=2)\n",
    "retino_changes = np.logical_and(retino_volume >= (retino_mean - 2*retino_std).reshape((512,512,1)), retino_volume <= (retino_mean + 2*retino_std).reshape((512,512,1)))\n",
    "changes_sum = np.sum(retino_changes, axis=2)\n",
    "mask_dt = retino_std > 10\n",
    "mask_strong = np.max(retino_volume, axis=2) > 225\n",
    "total_cnt = np.sum(retino_volume > 225, axis=2)\n",
    "changes_sum_dt = changes_sum[mask_dt]\n",
    "del retino_volume"
   ]
  },
  {
   "cell_type": "code",
   "execution_count": null,
   "metadata": {},
   "outputs": [],
   "source": [
    "alc_volume = np.zeros((512,512,1301,),dtype=np.float32)\n",
    "cnt = 0\n",
    "start_index = 199\n",
    "end_index = 1499\n",
    "# 368,294\n",
    "values_alc = []\n",
    "for index in range(start_index, end_index + 1):\n",
    "    filename = 'hsc/alc/alc' + str(index).zfill(4) + '.tif'\n",
    "    image = skimage.io.imread(filename, as_grey=True)\n",
    "    patch = image[368-25:368+25,294-25:294+25]\n",
    "    skimage.io.imsave('hsc/alc_patch' + str(index).zfill(4)+'.jpg', patch)\n",
    "    values_alc.append(image[368,294])\n",
    "    alc_volume[:,:,cnt] = image.astype(np.float32)\n",
    "    #skimage.restoration.denoise_nl_means(image,patch_size=5,patch_distance=5)\n",
    "    #skimage.io.imsave('hsc/alcdn/alc' + str(index).zfill(4)+'.jpg', skimage.img_as_ubyte(alc_volume[:,:,cnt]))\n",
    "    cnt = cnt + 1\n",
    "    print(cnt)\n",
    "alc_mean = np.mean(alc_volume, axis=2)\n",
    "alc_std = np.std(alc_volume, axis=2)\n",
    "alc_changes = np.logical_or(alc_volume < (alc_mean - 2*alc_std).reshape((512,512,1)), alc_volume > (alc_mean + 2*alc_std).reshape((512,512,1)))\n",
    "alc_changes_sum = np.sum(alc_changes, axis=2)\n",
    "alc_mask_dt = alc_std > 10\n",
    "alc_sum_dt = alc_changes_sum[alc_mask_dt]\n",
    "alc_total_cnt = np.sum(alc_volume > 225, axis=2)\n",
    "alc_mask_strong = np.max(alc_volume, axis=2) > 225\n",
    "del alc_volume"
   ]
  },
  {
   "cell_type": "code",
   "execution_count": null,
   "metadata": {},
   "outputs": [],
   "source": [
    "atra_volume = np.zeros((512,512,1301,),dtype=np.float32)\n",
    "cnt = 0\n",
    "start_index = 199\n",
    "end_index = 1499\n",
    "values = [] # 312,285\n",
    "for index in range(start_index, end_index + 1):\n",
    "    filename = 'hsc/atra/atra' + str(index).zfill(4) + '.tif'\n",
    "    image = skimage.io.imread(filename, as_grey=True)\n",
    "    patch = image[458-25:458+25,286-25:286+25]\n",
    "    atra_volume[:,:,cnt] = image.astype(np.float32)\n",
    "    cnt = cnt + 1\n",
    "    values.append(image[458,286])\n",
    "    skimage.io.imsave('hsc/atra_patch' + str(index).zfill(4) + '.jpg', patch)    \n",
    "\n",
    "atra_mean = np.mean(atra_volume, axis=2)\n",
    "atra_std = np.std(atra_volume, axis=2)\n",
    "atra_changes = np.logical_or(atra_volume < (atra_mean - 2*atra_std).reshape((512,512,1)), atra_volume > (atra_mean + 2*atra_std).reshape((512,512,1)))\n",
    "atra_changes_sum = np.sum(atra_changes, axis=2)\n",
    "atra_mask_dt = atra_std > 10\n",
    "atra_sum_dt = atra_changes_sum[atra_mask_dt]\n",
    "atra_total_cnt = np.sum(atra_volume > 225, axis=2)\n",
    "atra_mask_strong = np.max(atra_volume, axis=2) > 225\n",
    "del atra_volume"
   ]
  },
  {
   "cell_type": "code",
   "execution_count": null,
   "metadata": {
    "collapsed": true
   },
   "outputs": [],
   "source": []
  }
 ],
 "metadata": {
  "kernelspec": {
   "display_name": "Python 3",
   "language": "python",
   "name": "python3"
  },
  "language_info": {
   "codemirror_mode": {
    "name": "ipython",
    "version": 3
   },
   "file_extension": ".py",
   "mimetype": "text/x-python",
   "name": "python",
   "nbconvert_exporter": "python",
   "pygments_lexer": "ipython3",
   "version": "3.6.3"
  }
 },
 "nbformat": 4,
 "nbformat_minor": 5
}
